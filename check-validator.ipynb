{
 "cells": [
  {
   "cell_type": "code",
   "execution_count": 2,
   "metadata": {},
   "outputs": [
    {
     "name": "stdout",
     "output_type": "stream",
     "text": [
      "\u001b[33mDEPRECATION: Configuring installation scheme with distutils config files is deprecated and will no longer work in the near future. If you are using a Homebrew or Linuxbrew Python, please see discussion at https://github.com/Homebrew/homebrew-core/issues/76621\u001b[0m\u001b[33m\n",
      "\u001b[0mRequirement already satisfied: bittensor in /usr/local/lib/python3.9/site-packages (6.8.2)\n",
      "Requirement already satisfied: aiohttp==3.9.0b0 in /usr/local/lib/python3.9/site-packages (from bittensor) (3.9.0b0)\n",
      "Requirement already satisfied: ansible==6.7.0 in /usr/local/lib/python3.9/site-packages (from bittensor) (6.7.0)\n",
      "Requirement already satisfied: ansible-vault==2.1.0 in /usr/local/lib/python3.9/site-packages (from bittensor) (2.1.0)\n",
      "Requirement already satisfied: backoff in /usr/local/lib/python3.9/site-packages (from bittensor) (2.2.1)\n",
      "Requirement already satisfied: black==23.7.0 in /usr/local/lib/python3.9/site-packages (from bittensor) (23.7.0)\n",
      "Requirement already satisfied: cryptography==41.0.3 in /usr/local/lib/python3.9/site-packages (from bittensor) (41.0.3)\n",
      "Requirement already satisfied: ddt==1.6.0 in /usr/local/lib/python3.9/site-packages (from bittensor) (1.6.0)\n",
      "Requirement already satisfied: fuzzywuzzy>=0.18.0 in /usr/local/lib/python3.9/site-packages (from bittensor) (0.18.0)\n",
      "Requirement already satisfied: fastapi==0.99.1 in /usr/local/lib/python3.9/site-packages (from bittensor) (0.99.1)\n",
      "Requirement already satisfied: loguru==0.7.0 in /usr/local/lib/python3.9/site-packages (from bittensor) (0.7.0)\n",
      "Requirement already satisfied: munch==2.5.0 in /usr/local/lib/python3.9/site-packages (from bittensor) (2.5.0)\n",
      "Requirement already satisfied: netaddr in /usr/local/lib/python3.9/site-packages (from bittensor) (1.2.1)\n",
      "Requirement already satisfied: numpy in /usr/local/lib/python3.9/site-packages (from bittensor) (1.22.0)\n",
      "Requirement already satisfied: msgpack-numpy-opentensor==0.5.0 in /usr/local/lib/python3.9/site-packages (from bittensor) (0.5.0)\n",
      "Requirement already satisfied: nest-asyncio in /usr/local/lib/python3.9/site-packages (from bittensor) (1.5.4)\n",
      "Requirement already satisfied: pycryptodome<4.0.0,>=3.18.0 in /usr/local/lib/python3.9/site-packages (from bittensor) (3.20.0)\n",
      "Requirement already satisfied: pyyaml in /usr/local/lib/python3.9/site-packages (from bittensor) (6.0.1)\n",
      "Requirement already satisfied: password-strength in /usr/local/lib/python3.9/site-packages (from bittensor) (0.0.3.post2)\n",
      "Requirement already satisfied: pydantic!=1.8,!=1.8.1,<2.0.0,>=1.7.4 in /usr/local/lib/python3.9/site-packages (from bittensor) (1.10.14)\n",
      "Requirement already satisfied: PyNaCl<=1.5.0,>=1.3.0 in /usr/local/lib/python3.9/site-packages (from bittensor) (1.5.0)\n",
      "Requirement already satisfied: pytest-asyncio in /usr/local/lib/python3.9/site-packages (from bittensor) (0.23.5)\n",
      "Requirement already satisfied: python-Levenshtein in /usr/local/lib/python3.9/site-packages (from bittensor) (0.25.0)\n",
      "Requirement already satisfied: pytest in /usr/local/lib/python3.9/site-packages (from bittensor) (8.0.2)\n",
      "Requirement already satisfied: retry in /usr/local/lib/python3.9/site-packages (from bittensor) (0.9.2)\n",
      "Requirement already satisfied: requests in /usr/local/lib/python3.9/site-packages (from bittensor) (2.27.1)\n",
      "Requirement already satisfied: rich in /usr/local/lib/python3.9/site-packages (from bittensor) (13.7.1)\n",
      "Requirement already satisfied: scalecodec==1.2.7 in /usr/local/lib/python3.9/site-packages (from bittensor) (1.2.7)\n",
      "Requirement already satisfied: shtab==1.6.5 in /usr/local/lib/python3.9/site-packages (from bittensor) (1.6.5)\n",
      "Requirement already satisfied: substrate-interface==1.7.5 in /usr/local/lib/python3.9/site-packages (from bittensor) (1.7.5)\n",
      "Requirement already satisfied: termcolor in /usr/local/lib/python3.9/site-packages (from bittensor) (2.4.0)\n",
      "Requirement already satisfied: torch>=1.13.1 in /usr/local/lib/python3.9/site-packages (from bittensor) (2.2.1)\n",
      "Requirement already satisfied: tqdm in /usr/local/lib/python3.9/site-packages (from bittensor) (4.66.2)\n",
      "Requirement already satisfied: uvicorn==0.22.0 in /usr/local/lib/python3.9/site-packages (from bittensor) (0.22.0)\n",
      "Requirement already satisfied: wheel in /usr/local/lib/python3.9/site-packages (from bittensor) (0.41.2)\n",
      "Requirement already satisfied: attrs>=17.3.0 in /usr/local/lib/python3.9/site-packages (from aiohttp==3.9.0b0->bittensor) (21.4.0)\n",
      "Requirement already satisfied: multidict<7.0,>=4.5 in /usr/local/lib/python3.9/site-packages (from aiohttp==3.9.0b0->bittensor) (6.0.5)\n",
      "Requirement already satisfied: yarl<2.0,>=1.0 in /usr/local/lib/python3.9/site-packages (from aiohttp==3.9.0b0->bittensor) (1.9.4)\n",
      "Requirement already satisfied: frozenlist>=1.1.1 in /usr/local/lib/python3.9/site-packages (from aiohttp==3.9.0b0->bittensor) (1.4.1)\n",
      "Requirement already satisfied: aiosignal>=1.1.2 in /usr/local/lib/python3.9/site-packages (from aiohttp==3.9.0b0->bittensor) (1.3.1)\n",
      "Requirement already satisfied: async-timeout<5.0,>=4.0 in /usr/local/lib/python3.9/site-packages (from aiohttp==3.9.0b0->bittensor) (4.0.3)\n",
      "Requirement already satisfied: ansible-core~=2.13.7 in /usr/local/lib/python3.9/site-packages (from ansible==6.7.0->bittensor) (2.13.13)\n",
      "Requirement already satisfied: setuptools in /usr/local/lib/python3.9/site-packages (from ansible-vault==2.1.0->bittensor) (68.1.2)\n",
      "Requirement already satisfied: click>=8.0.0 in /usr/local/lib/python3.9/site-packages (from black==23.7.0->bittensor) (8.1.7)\n",
      "Requirement already satisfied: mypy-extensions>=0.4.3 in /usr/local/lib/python3.9/site-packages (from black==23.7.0->bittensor) (1.0.0)\n",
      "Requirement already satisfied: packaging>=22.0 in /usr/local/lib/python3.9/site-packages (from black==23.7.0->bittensor) (23.2)\n",
      "Requirement already satisfied: pathspec>=0.9.0 in /usr/local/lib/python3.9/site-packages (from black==23.7.0->bittensor) (0.12.1)\n",
      "Requirement already satisfied: platformdirs>=2 in /usr/local/lib/python3.9/site-packages (from black==23.7.0->bittensor) (2.6.0)\n",
      "Requirement already satisfied: tomli>=1.1.0 in /usr/local/lib/python3.9/site-packages (from black==23.7.0->bittensor) (2.0.1)\n",
      "Requirement already satisfied: typing-extensions>=3.10.0.0 in /usr/local/lib/python3.9/site-packages (from black==23.7.0->bittensor) (4.10.0)\n",
      "Requirement already satisfied: cffi>=1.12 in /usr/local/lib/python3.9/site-packages (from cryptography==41.0.3->bittensor) (1.15.0)\n",
      "Requirement already satisfied: starlette<0.28.0,>=0.27.0 in /usr/local/lib/python3.9/site-packages (from fastapi==0.99.1->bittensor) (0.27.0)\n",
      "Requirement already satisfied: msgpack>=0.5.2 in /usr/local/lib/python3.9/site-packages (from msgpack-numpy-opentensor==0.5.0->bittensor) (1.0.4)\n",
      "Requirement already satisfied: six in /usr/local/lib/python3.9/site-packages (from munch==2.5.0->bittensor) (1.16.0)\n",
      "Requirement already satisfied: more-itertools in /usr/local/lib/python3.9/site-packages (from scalecodec==1.2.7->bittensor) (9.0.0)\n",
      "Requirement already satisfied: base58>=2.0.1 in /usr/local/lib/python3.9/site-packages (from scalecodec==1.2.7->bittensor) (2.1.1)\n",
      "Requirement already satisfied: websocket-client<2,>=0.57.0 in /usr/local/lib/python3.9/site-packages (from substrate-interface==1.7.5->bittensor) (1.2.3)\n",
      "Requirement already satisfied: certifi>=2019.3.9 in /usr/local/lib/python3.9/site-packages (from substrate-interface==1.7.5->bittensor) (2021.10.8)\n",
      "Requirement already satisfied: idna<4,>=2.1.0 in /usr/local/lib/python3.9/site-packages (from substrate-interface==1.7.5->bittensor) (3.3)\n",
      "Requirement already satisfied: xxhash<4,>=1.3.0 in /usr/local/lib/python3.9/site-packages (from substrate-interface==1.7.5->bittensor) (3.4.1)\n",
      "Requirement already satisfied: ecdsa<1,>=0.17.0 in /usr/local/lib/python3.9/site-packages (from substrate-interface==1.7.5->bittensor) (0.18.0)\n",
      "Requirement already satisfied: eth-keys<1,>=0.2.1 in /usr/local/lib/python3.9/site-packages (from substrate-interface==1.7.5->bittensor) (0.5.0)\n",
      "Requirement already satisfied: eth-utils<3,>=1.3.0 in /usr/local/lib/python3.9/site-packages (from substrate-interface==1.7.5->bittensor) (2.3.1)\n",
      "Requirement already satisfied: py-sr25519-bindings<1,>=0.2.0 in /usr/local/lib/python3.9/site-packages (from substrate-interface==1.7.5->bittensor) (0.2.0)\n",
      "Requirement already satisfied: py-ed25519-zebra-bindings<2,>=1.0 in /usr/local/lib/python3.9/site-packages (from substrate-interface==1.7.5->bittensor) (1.0.1)\n",
      "Requirement already satisfied: py-bip39-bindings<1,>=0.1.9 in /usr/local/lib/python3.9/site-packages (from substrate-interface==1.7.5->bittensor) (0.1.11)\n",
      "Requirement already satisfied: h11>=0.8 in /usr/local/lib/python3.9/site-packages (from uvicorn==0.22.0->bittensor) (0.14.0)\n",
      "Requirement already satisfied: urllib3<1.27,>=1.21.1 in /usr/local/lib/python3.9/site-packages (from requests->bittensor) (1.26.7)\n",
      "Requirement already satisfied: charset-normalizer~=2.0.0 in /usr/local/lib/python3.9/site-packages (from requests->bittensor) (2.0.10)\n",
      "Requirement already satisfied: filelock in /usr/local/lib/python3.9/site-packages (from torch>=1.13.1->bittensor) (3.8.2)\n",
      "Requirement already satisfied: sympy in /usr/local/lib/python3.9/site-packages (from torch>=1.13.1->bittensor) (1.12)\n",
      "Requirement already satisfied: networkx in /usr/local/lib/python3.9/site-packages (from torch>=1.13.1->bittensor) (3.2.1)\n",
      "Requirement already satisfied: jinja2 in /usr/local/lib/python3.9/site-packages (from torch>=1.13.1->bittensor) (3.0.3)\n",
      "Requirement already satisfied: fsspec in /usr/local/lib/python3.9/site-packages (from torch>=1.13.1->bittensor) (2024.2.0)\n",
      "Requirement already satisfied: iniconfig in /usr/local/lib/python3.9/site-packages (from pytest->bittensor) (2.0.0)\n",
      "Requirement already satisfied: pluggy<2.0,>=1.3.0 in /usr/local/lib/python3.9/site-packages (from pytest->bittensor) (1.4.0)\n",
      "Requirement already satisfied: exceptiongroup>=1.0.0rc8 in /usr/local/lib/python3.9/site-packages (from pytest->bittensor) (1.1.1)\n",
      "Requirement already satisfied: Levenshtein==0.25.0 in /usr/local/lib/python3.9/site-packages (from python-Levenshtein->bittensor) (0.25.0)\n",
      "Requirement already satisfied: rapidfuzz<4.0.0,>=3.1.0 in /usr/local/lib/python3.9/site-packages (from Levenshtein==0.25.0->python-Levenshtein->bittensor) (3.6.2)\n",
      "Requirement already satisfied: decorator>=3.4.2 in /usr/local/lib/python3.9/site-packages (from retry->bittensor) (5.1.0)\n",
      "Requirement already satisfied: py<2.0.0,>=1.4.26 in /usr/local/lib/python3.9/site-packages (from retry->bittensor) (1.11.0)\n",
      "Requirement already satisfied: markdown-it-py>=2.2.0 in /usr/local/lib/python3.9/site-packages (from rich->bittensor) (3.0.0)\n",
      "Requirement already satisfied: pygments<3.0.0,>=2.13.0 in /usr/local/lib/python3.9/site-packages (from rich->bittensor) (2.17.2)\n",
      "Requirement already satisfied: resolvelib<0.9.0,>=0.5.3 in /usr/local/lib/python3.9/site-packages (from ansible-core~=2.13.7->ansible==6.7.0->bittensor) (0.8.1)\n",
      "Requirement already satisfied: pycparser in /usr/local/lib/python3.9/site-packages (from cffi>=1.12->cryptography==41.0.3->bittensor) (2.21)\n",
      "Requirement already satisfied: eth-typing>=3 in /usr/local/lib/python3.9/site-packages (from eth-keys<1,>=0.2.1->substrate-interface==1.7.5->bittensor) (4.0.0)\n",
      "Requirement already satisfied: eth-hash>=0.3.1 in /usr/local/lib/python3.9/site-packages (from eth-utils<3,>=1.3.0->substrate-interface==1.7.5->bittensor) (0.7.0)\n",
      "Requirement already satisfied: cytoolz>=0.10.1 in /usr/local/lib/python3.9/site-packages (from eth-utils<3,>=1.3.0->substrate-interface==1.7.5->bittensor) (0.12.3)\n",
      "Requirement already satisfied: MarkupSafe>=2.0 in /usr/local/lib/python3.9/site-packages (from jinja2->torch>=1.13.1->bittensor) (2.0.1)\n",
      "Requirement already satisfied: mdurl~=0.1 in /usr/local/lib/python3.9/site-packages (from markdown-it-py>=2.2.0->rich->bittensor) (0.1.2)\n",
      "Requirement already satisfied: anyio<5,>=3.4.0 in /usr/local/lib/python3.9/site-packages (from starlette<0.28.0,>=0.27.0->fastapi==0.99.1->bittensor) (3.4.0)\n",
      "Requirement already satisfied: mpmath>=0.19 in /usr/local/lib/python3.9/site-packages (from sympy->torch>=1.13.1->bittensor) (1.3.0)\n",
      "Requirement already satisfied: sniffio>=1.1 in /usr/local/lib/python3.9/site-packages (from anyio<5,>=3.4.0->starlette<0.28.0,>=0.27.0->fastapi==0.99.1->bittensor) (1.2.0)\n",
      "Requirement already satisfied: toolz>=0.8.0 in /usr/local/lib/python3.9/site-packages (from cytoolz>=0.10.1->eth-utils<3,>=1.3.0->substrate-interface==1.7.5->bittensor) (0.12.1)\n",
      "\u001b[33mDEPRECATION: Configuring installation scheme with distutils config files is deprecated and will no longer work in the near future. If you are using a Homebrew or Linuxbrew Python, please see discussion at https://github.com/Homebrew/homebrew-core/issues/76621\u001b[0m\u001b[33m\n",
      "\u001b[0m\n",
      "\u001b[1m[\u001b[0m\u001b[34;49mnotice\u001b[0m\u001b[1;39;49m]\u001b[0m\u001b[39;49m A new release of pip is available: \u001b[0m\u001b[31;49m23.2.1\u001b[0m\u001b[39;49m -> \u001b[0m\u001b[32;49m24.0\u001b[0m\n",
      "\u001b[1m[\u001b[0m\u001b[34;49mnotice\u001b[0m\u001b[1;39;49m]\u001b[0m\u001b[39;49m To update, run: \u001b[0m\u001b[32;49mpython3.9 -m pip install --upgrade pip\u001b[0m\n",
      "Note: you may need to restart the kernel to use updated packages.\n"
     ]
    }
   ],
   "source": [
    "%pip install bittensor"
   ]
  },
  {
   "cell_type": "code",
   "execution_count": 3,
   "metadata": {},
   "outputs": [
    {
     "name": "stdout",
     "output_type": "stream",
     "text": [
      "\u001b[34m2024-03-08 01:01:25.212\u001b[0m | \u001b[1m      INFO      \u001b[0m | You are connecting to finney network with endpoint wss://entrypoint-finney.opentensor.ai:443.\n",
      "\u001b[34m2024-03-08 01:01:25.213\u001b[0m | \u001b[33m\u001b[1m    WARNING     \u001b[0m | We strongly encourage running a local subtensor node whenever possible. This increases decentralization and resilience of the network.\n",
      "\u001b[34m2024-03-08 01:01:25.213\u001b[0m | \u001b[33m\u001b[1m    WARNING     \u001b[0m | In a future release, local subtensor will become the default endpoint. To get ahead of this change, please run a local subtensor node and point to it.\n",
      "\u001b[34m2024-03-08 01:01:26.751\u001b[0m | \u001b[1m      INFO      \u001b[0m | Connected to finney network and wss://entrypoint-finney.opentensor.ai:443.\n",
      "Current requirement for validator permits based on the top 64 stake stands at 2.2808163166046143 tao\n"
     ]
    }
   ],
   "source": [
    "import bittensor as bt\n",
    "subnet = bt.metagraph(1)\n",
    "top_64_stake = subnet.S.sort()[0][-64:].tolist()\n",
    "print (f'Current requirement for validator permits based on the top 64 stake stands at {min(top_64_stake)} tao')"
   ]
  }
 ],
 "metadata": {
  "kernelspec": {
   "display_name": "Python 3",
   "language": "python",
   "name": "python3"
  },
  "language_info": {
   "codemirror_mode": {
    "name": "ipython",
    "version": 3
   },
   "file_extension": ".py",
   "mimetype": "text/x-python",
   "name": "python",
   "nbconvert_exporter": "python",
   "pygments_lexer": "ipython3",
   "version": "3.9.18"
  }
 },
 "nbformat": 4,
 "nbformat_minor": 2
}
